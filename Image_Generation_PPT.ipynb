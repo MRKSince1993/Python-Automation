{
 "cells": [
  {
   "cell_type": "code",
   "execution_count": 1,
   "id": "548d4ac6-0017-4c41-804c-8bbb123a56ee",
   "metadata": {},
   "outputs": [
    {
     "name": "stdout",
     "output_type": "stream",
     "text": [
      "Requirement already satisfied: Spire.Presentation in c:\\users\\m0k07jm\\appdata\\local\\anaconda3\\lib\\site-packages (9.3.0)\n",
      "Requirement already satisfied: plum-dispatch==1.7.4 in c:\\users\\m0k07jm\\appdata\\local\\anaconda3\\lib\\site-packages (from Spire.Presentation) (1.7.4)\n",
      "Note: you may need to restart the kernel to use updated packages.\n"
     ]
    }
   ],
   "source": [
    "pip install Spire.Presentation"
   ]
  },
  {
   "cell_type": "code",
   "execution_count": 4,
   "id": "c4d19fde-230d-4548-83e0-0da8e9794d9e",
   "metadata": {},
   "outputs": [],
   "source": [
    "from spire.presentation.common import *\n",
    "from spire.presentation import *\n",
    "\n",
    "# Create a Presentation object\n",
    "presentation = Presentation()\n",
    "\n",
    "# Load a PowerPoint presentation\n",
    "presentation.LoadFromFile(\"Please enter you PPT file location\")\n",
    "\n",
    "# Loop through the slides in the presentation\n",
    "for i, slide in enumerate(presentation.Slides):\n",
    "    # Specify the output file name\n",
    "    fileName =\"Pictures/ToImage_\" + str(i) + \".png\"\n",
    "    # Save each slide as a PNG image\n",
    "    image = slide.SaveAsImage()\n",
    "    image.Save(fileName)\n",
    "    image.Dispose()\n",
    "\n",
    "presentation.Dispose()"
   ]
  },
  {
   "cell_type": "markdown",
   "id": "9b281ff2-daf7-49cd-9f87-58e3e3e9c3c6",
   "metadata": {},
   "source": [
    "TEST"
   ]
  },
  {
   "cell_type": "code",
   "execution_count": null,
   "id": "f5a8a250-b326-4a70-a036-84be841ca0b2",
   "metadata": {},
   "outputs": [],
   "source": []
  }
 ],
 "metadata": {
  "kernelspec": {
   "display_name": "Python 3 (ipykernel)",
   "language": "python",
   "name": "python3"
  },
  "language_info": {
   "codemirror_mode": {
    "name": "ipython",
    "version": 3
   },
   "file_extension": ".py",
   "mimetype": "text/x-python",
   "name": "python",
   "nbconvert_exporter": "python",
   "pygments_lexer": "ipython3",
   "version": "3.11.7"
  }
 },
 "nbformat": 4,
 "nbformat_minor": 5
}
