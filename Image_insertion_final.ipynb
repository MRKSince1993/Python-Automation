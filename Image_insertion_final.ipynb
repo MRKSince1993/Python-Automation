{
 "cells": [
  {
   "cell_type": "code",
   "execution_count": 10,
   "id": "c6dbb94d-e5d1-4ec2-a3ee-4d0b38c896e1",
   "metadata": {},
   "outputs": [],
   "source": [
    "import win32com.client as win32\n",
    "import os"
   ]
  },
  {
   "cell_type": "code",
   "execution_count": 11,
   "id": "38115cd7-2bd5-4e9c-889f-533c16d939ea",
   "metadata": {},
   "outputs": [],
   "source": [
    "# Create an instance of the Outlook application\n",
    "outlook = win32.Dispatch('outlook.application')\n"
   ]
  },
  {
   "cell_type": "code",
   "execution_count": 12,
   "id": "04ffcf1c-0218-4a6d-b5c9-54f90e4daa84",
   "metadata": {},
   "outputs": [],
   "source": [
    "# Create a new email message\n",
    "mail = outlook.CreateItem(0)\n"
   ]
  },
  {
   "cell_type": "code",
   "execution_count": 14,
   "id": "e06299fc-758e-426a-b440-7bf6d1796a1b",
   "metadata": {},
   "outputs": [],
   "source": [
    "# Get the current directory\n",
    "# current_directory = os.path.dirname(os.path.abspath(\"C://Users//m0k07jm//OneDrive - Walmart Inc//Logo and Icons//PSA\"))\n",
    "current_directory = os.path.dirname(os.path.abspath(\"C://Users//m0k07jm//Pictures\"))"
   ]
  },
  {
   "cell_type": "code",
   "execution_count": 15,
   "id": "81e00597-3fba-4db6-b48b-adec9028f800",
   "metadata": {},
   "outputs": [
    {
     "data": {
      "text/plain": [
       "'C:\\\\Users\\\\m0k07jm'"
      ]
     },
     "execution_count": 15,
     "metadata": {},
     "output_type": "execute_result"
    }
   ],
   "source": [
    "current_directory"
   ]
  },
  {
   "cell_type": "code",
   "execution_count": 16,
   "id": "47cbc143-6413-48a1-b6be-daa692d8140d",
   "metadata": {},
   "outputs": [],
   "source": [
    "# Attach images\n",
    "\n",
    "image_paths = ['ToImage_1.png', 'ToImage_2.png','ToImage_4.png','ToImage_5.png']\n",
    "for image_path in image_paths:\n",
    "    full_image_path = os.path.join(current_directory,\"Pictures\", image_path)\n",
    "    if os.path.exists(full_image_path):\n",
    "        attachment = mail.Attachments.Add(full_image_path)\n",
    "        attachment.PropertyAccessor.SetProperty(\"http://schemas.microsoft.com/mapi/proptag/0x3712001E\", \"image_path\")\n",
    "    else:\n",
    "        print(f\"Image not found: {image_path}\")"
   ]
  },
  {
   "cell_type": "code",
   "execution_count": 17,
   "id": "39b1c2fe-5b2f-4ab4-8b58-1f898a570827",
   "metadata": {},
   "outputs": [],
   "source": [
    "# HTML body with embedded images\n",
    "html_body = f\"\"\"\n",
    "<html>\n",
    "\n",
    "<head>\n",
    "Hi All,\n",
    "\n",
    "Please find the updated Report as of today.\n",
    "\n",
    "</head>\n",
    "  <body>\n",
    "    <p>Here are the images:</p>\n",
    "    <p><img src=\"cid:ToImage_1.png\"></p>\n",
    "    <p><img src=\"cid:ToImage_2.png\"></p>\n",
    "    <p><img src=\"cid:ToImage_4.png\"></p>\n",
    "    <p><img src=\"cid:ToImage_5.png\"></p>\n",
    "  </body>\n",
    "</html>\n",
    "\"\"\"\n",
    "mail.HTMLBody = html_body"
   ]
  },
  {
   "cell_type": "code",
   "execution_count": 18,
   "id": "003a611a-7aef-4106-8657-82f47894b035",
   "metadata": {},
   "outputs": [
    {
     "name": "stdout",
     "output_type": "stream",
     "text": [
      "Email sent successfully!\n"
     ]
    }
   ],
   "source": [
    "# Send email\n",
    "mail.display()\n",
    "# mail.Send()\n",
    "print(\"Email sent successfully!\")"
   ]
  },
  {
   "cell_type": "code",
   "execution_count": null,
   "id": "13f2522b-6327-4071-85a9-b57bd4dcd398",
   "metadata": {},
   "outputs": [],
   "source": []
  }
 ],
 "metadata": {
  "kernelspec": {
   "display_name": "Python 3 (ipykernel)",
   "language": "python",
   "name": "python3"
  },
  "language_info": {
   "codemirror_mode": {
    "name": "ipython",
    "version": 3
   },
   "file_extension": ".py",
   "mimetype": "text/x-python",
   "name": "python",
   "nbconvert_exporter": "python",
   "pygments_lexer": "ipython3",
   "version": "3.11.7"
  }
 },
 "nbformat": 4,
 "nbformat_minor": 5
}
